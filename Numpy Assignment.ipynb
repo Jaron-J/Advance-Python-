{
 "cells": [
  {
   "cell_type": "code",
   "execution_count": 33,
   "id": "059a0384",
   "metadata": {},
   "outputs": [
    {
     "name": "stdout",
     "output_type": "stream",
     "text": [
      "<class 'numpy.ndarray'>\n",
      "<class 'list'>\n"
     ]
    }
   ],
   "source": [
    "'''1) Is there any difference in the data type of variables list_ and array_list? \n",
    "If there is then write a code to print the data types of both the variables.'''\n",
    "import numpy as np \n",
    "list_ = [ '1' , '2' , '3', '4' , '5' ] \n",
    "arraylist = np.array(list_)\n",
    "print(type(arraylist))\n",
    "print(type(list_))"
   ]
  },
  {
   "cell_type": "code",
   "execution_count": 34,
   "id": "4edbb3da",
   "metadata": {},
   "outputs": [
    {
     "name": "stdout",
     "output_type": "stream",
     "text": [
      "<class 'str'>\n",
      "<class 'str'>\n",
      "<class 'str'>\n",
      "<class 'str'>\n",
      "<class 'str'>\n",
      "<class 'numpy.str_'>\n",
      "<class 'numpy.str_'>\n",
      "<class 'numpy.str_'>\n",
      "<class 'numpy.str_'>\n",
      "<class 'numpy.str_'>\n"
     ]
    }
   ],
   "source": [
    "'''2) Write a code to print the data type of each and every element of both the variables list_ and arra_list.'''\n",
    "for item in list_:\n",
    "    print(type(item))\n",
    "for item in arraylist:\n",
    "    print(type(item))"
   ]
  },
  {
   "cell_type": "code",
   "execution_count": 36,
   "id": "4402e248",
   "metadata": {
    "scrolled": true
   },
   "outputs": [
    {
     "name": "stdout",
     "output_type": "stream",
     "text": [
      "<class 'str'>\n",
      "<class 'str'>\n",
      "<class 'str'>\n",
      "<class 'str'>\n",
      "<class 'str'>\n",
      "<class 'numpy.int32'>\n",
      "<class 'numpy.int32'>\n",
      "<class 'numpy.int32'>\n",
      "<class 'numpy.int32'>\n",
      "<class 'numpy.int32'>\n"
     ]
    }
   ],
   "source": [
    "'''3) Considering the following changes in the variable\n",
    "array_list: arraylist = np.array(object = list, dtype = int)\n",
    "Will there be any difference in the data type of the elements present in both the variables, list_ and arralist?\n",
    "If so then print the data types of each and every element present in both the variables, list and arra_list.'''\n",
    "import numpy as np \n",
    "list_ = [ '1' , '2' , '3' , '4', '5' ] \n",
    "arraylist = np.array(list_,dtype=int)\n",
    "for item in list_:\n",
    "    print(type(item))\n",
    "for item in arraylist:\n",
    "    print(type(item))"
   ]
  },
  {
   "cell_type": "code",
   "execution_count": 43,
   "id": "7f7de5fd",
   "metadata": {
    "scrolled": true
   },
   "outputs": [
    {
     "name": "stdout",
     "output_type": "stream",
     "text": [
      "(2, 3)\n",
      "6\n"
     ]
    }
   ],
   "source": [
    "'''import numpy as np num_list = [ [ 1 , 2 , 3 ] , [ 4 , 5 , 6 ] ] num_array = np.array(object = num_list)\n",
    "4) Write a code to find the following characteristics of variable, num_array:\n",
    "(i) shape\n",
    "(ii) size'''\n",
    "import numpy as np \n",
    "num_list = np.array([[ 1 , 2 , 3 ] , [ 4 , 5 , 6 ]])\n",
    "shape=num_list.shape\n",
    "size=num_list.size\n",
    "print(shape)\n",
    "print(size)\n"
   ]
  },
  {
   "cell_type": "code",
   "execution_count": 100,
   "id": "a137cbcc",
   "metadata": {
    "scrolled": true
   },
   "outputs": [
    {
     "name": "stdout",
     "output_type": "stream",
     "text": [
      "[[0. 0. 0.]\n",
      " [0. 0. 0.]\n",
      " [0. 0. 0.]]\n"
     ]
    }
   ],
   "source": [
    "'''Q5. Write a code to create numpy array of 3*3 matrix containing zeros only, using a numpy array creation function.\n",
    "[Hint: The size of the array will be 9 and the shape will be (3,3).]'''\n",
    "import numpy as np\n",
    "a=np.zeros((3,3))\n",
    "print(a)"
   ]
  },
  {
   "cell_type": "code",
   "execution_count": 93,
   "id": "15d72b07",
   "metadata": {},
   "outputs": [
    {
     "name": "stdout",
     "output_type": "stream",
     "text": [
      "[[1. 0. 0. 0. 0.]\n",
      " [0. 1. 0. 0. 0.]\n",
      " [0. 0. 1. 0. 0.]\n",
      " [0. 0. 0. 1. 0.]\n",
      " [0. 0. 0. 0. 1.]]\n"
     ]
    }
   ],
   "source": [
    "'''Q6. Create an identity matrix of shape (5,5) using numpy functions?\n",
    "[Hint: An identity matrix is a matrix containing 1 diagonally and other elements will be 0.]'''\n",
    "iden=np.eye(5,5)\n",
    "print(iden)"
   ]
  },
  {
   "cell_type": "code",
   "execution_count": 4,
   "id": "dfc5b855",
   "metadata": {
    "scrolled": false
   },
   "outputs": [
    {
     "name": "stdout",
     "output_type": "stream",
     "text": [
      "[[[ 1  2  3  4]\n",
      "  [ 5  6  7  8]]\n",
      "\n",
      " [[ 9 10 11 12]\n",
      "  [13 14 15 16]]\n",
      "\n",
      " [[17 18 19 20]\n",
      "  [21 22 23 24]]]\n",
      "******************************\n",
      "[[17 18 19 20]\n",
      " [21 22 23 24]]\n",
      "******************************\n",
      "24\n",
      "******************************\n",
      "[[[ 2]\n",
      "  [ 6]]\n",
      "\n",
      " [[10]\n",
      "  [14]]\n",
      "\n",
      " [[18]\n",
      "  [22]]]\n",
      "******************************\n",
      "[[[ 1  2  3  4]]\n",
      "\n",
      " [[ 9 10 11 12]]\n",
      "\n",
      " [[17 18 19 20]]]\n"
     ]
    }
   ],
   "source": [
    "import numpy as np\n",
    "arr=np.arange(1,25).reshape(3,2,4)\n",
    "print(arr)\n",
    "print(\"*\"*30)\n",
    "print(arr[2])\n",
    "print(\"*\"*30)\n",
    "print(arr[-1,-1,-1])\n",
    "print(\"*\"*30)\n",
    "print(arr[:,:2,1:2])\n",
    "print(\"*\"*30)\n",
    "ab=arr[:3,:1]\n",
    "print(ab)"
   ]
  },
  {
   "cell_type": "code",
   "execution_count": 134,
   "id": "9702affb",
   "metadata": {
    "scrolled": false
   },
   "outputs": [
    {
     "name": "stdout",
     "output_type": "stream",
     "text": [
      "[64, 24, 97, 71, 17, 58, 55]\n",
      "******************************\n",
      "[[1.         1.22222222 1.44444444 1.66666667 1.88888889]\n",
      " [2.11111111 2.33333333 2.55555556 2.77777778 3.        ]]\n",
      "******************************\n",
      "[1.         1.22222222 1.44444444 1.66666667 1.88888889 2.11111111\n",
      " 2.33333333 2.55555556 2.77777778 3.        ]\n",
      "******************************\n",
      "[[100. 100. 100.]\n",
      " [100. 100. 100.]\n",
      " [100. 100. 100.]]\n"
     ]
    }
   ],
   "source": [
    "import random\n",
    "random_numbers = [random.randint(1, 100) for _ in range(7)]\n",
    "print(random_numbers)\n",
    "import numpy as np\n",
    "print(\"*\"*30)\n",
    "u_array = np.empty((2, 5))\n",
    "print(u_array)\n",
    "print(\"*\"*30)\n",
    "lin=np.linspace(1,3,10)\n",
    "print(lin)\n",
    "print(\"*\"*30)\n",
    "hun=np.empty((3,3))\n",
    "hun.fill(100)\n",
    "print(hun)"
   ]
  },
  {
   "cell_type": "code",
   "execution_count": null,
   "id": "e6f38df9",
   "metadata": {},
   "outputs": [],
   "source": []
  }
 ],
 "metadata": {
  "kernelspec": {
   "display_name": "Python 3 (ipykernel)",
   "language": "python",
   "name": "python3"
  },
  "language_info": {
   "codemirror_mode": {
    "name": "ipython",
    "version": 3
   },
   "file_extension": ".py",
   "mimetype": "text/x-python",
   "name": "python",
   "nbconvert_exporter": "python",
   "pygments_lexer": "ipython3",
   "version": "3.11.5"
  }
 },
 "nbformat": 4,
 "nbformat_minor": 5
}
