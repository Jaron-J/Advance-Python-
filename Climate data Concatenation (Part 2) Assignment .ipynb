{
 "cells": [
  {
   "cell_type": "code",
   "execution_count": 61,
   "id": "1e63852b",
   "metadata": {},
   "outputs": [],
   "source": [
    "import numpy as np\n"
   ]
  },
  {
   "cell_type": "code",
   "execution_count": 62,
   "id": "84337e49",
   "metadata": {},
   "outputs": [
    {
     "data": {
      "text/plain": [
       "array([[25., 76., 99.],\n",
       "       [39., 65., 70.],\n",
       "       [59., 45., 77.],\n",
       "       ...,\n",
       "       [99., 62., 58.],\n",
       "       [70., 71., 91.],\n",
       "       [92., 39., 76.]])"
      ]
     },
     "execution_count": 62,
     "metadata": {},
     "output_type": "execute_result"
    }
   ],
   "source": [
    "climate_data=np.loadtxt('climate_data_added_5.csv',delimiter=',',skiprows=1)\n",
    "climate_data"
   ]
  },
  {
   "cell_type": "code",
   "execution_count": 63,
   "id": "1105d802",
   "metadata": {},
   "outputs": [
    {
     "data": {
      "text/plain": [
       "array([[25.],\n",
       "       [39.],\n",
       "       [59.],\n",
       "       ...,\n",
       "       [99.],\n",
       "       [70.],\n",
       "       [92.]])"
      ]
     },
     "execution_count": 63,
     "metadata": {},
     "output_type": "execute_result"
    }
   ],
   "source": [
    "w1=climate_data[0:,:1]\n",
    "w1"
   ]
  },
  {
   "cell_type": "code",
   "execution_count": 64,
   "id": "527bd617",
   "metadata": {},
   "outputs": [
    {
     "data": {
      "text/plain": [
       "array([[ 7.5],\n",
       "       [11.7],\n",
       "       [17.7],\n",
       "       ...,\n",
       "       [29.7],\n",
       "       [21. ],\n",
       "       [27.6]])"
      ]
     },
     "execution_count": 64,
     "metadata": {},
     "output_type": "execute_result"
    }
   ],
   "source": [
    "w1_1=w1*0.3\n",
    "w1_1"
   ]
  },
  {
   "cell_type": "code",
   "execution_count": 65,
   "id": "bb973a5d",
   "metadata": {},
   "outputs": [
    {
     "data": {
      "text/plain": [
       "array([[76.],\n",
       "       [65.],\n",
       "       [45.],\n",
       "       ...,\n",
       "       [62.],\n",
       "       [71.],\n",
       "       [39.]])"
      ]
     },
     "execution_count": 65,
     "metadata": {},
     "output_type": "execute_result"
    }
   ],
   "source": [
    "w2=climate_data[0:,1:2]\n",
    "w2"
   ]
  },
  {
   "cell_type": "code",
   "execution_count": 66,
   "id": "a4a0d1ab",
   "metadata": {},
   "outputs": [
    {
     "data": {
      "text/plain": [
       "array([[15.2],\n",
       "       [13. ],\n",
       "       [ 9. ],\n",
       "       ...,\n",
       "       [12.4],\n",
       "       [14.2],\n",
       "       [ 7.8]])"
      ]
     },
     "execution_count": 66,
     "metadata": {},
     "output_type": "execute_result"
    }
   ],
   "source": [
    "w2_2=w2*0.2\n",
    "w2_2"
   ]
  },
  {
   "cell_type": "code",
   "execution_count": 67,
   "id": "08d1c42d",
   "metadata": {},
   "outputs": [
    {
     "data": {
      "text/plain": [
       "array([[99.],\n",
       "       [70.],\n",
       "       [77.],\n",
       "       ...,\n",
       "       [58.],\n",
       "       [91.],\n",
       "       [76.]])"
      ]
     },
     "execution_count": 67,
     "metadata": {},
     "output_type": "execute_result"
    }
   ],
   "source": [
    "w3=climate_data[0:,2:]\n",
    "w3"
   ]
  },
  {
   "cell_type": "code",
   "execution_count": 68,
   "id": "5325401c",
   "metadata": {},
   "outputs": [
    {
     "data": {
      "text/plain": [
       "array([[49.5],\n",
       "       [35. ],\n",
       "       [38.5],\n",
       "       ...,\n",
       "       [29. ],\n",
       "       [45.5],\n",
       "       [38. ]])"
      ]
     },
     "execution_count": 68,
     "metadata": {},
     "output_type": "execute_result"
    }
   ],
   "source": [
    "w3_3=w3*0.5\n",
    "w3_3"
   ]
  },
  {
   "cell_type": "code",
   "execution_count": 69,
   "id": "f2f1a7be",
   "metadata": {},
   "outputs": [
    {
     "data": {
      "text/plain": [
       "array([[72.2],\n",
       "       [59.7],\n",
       "       [65.2],\n",
       "       ...,\n",
       "       [71.1],\n",
       "       [80.7],\n",
       "       [73.4]])"
      ]
     },
     "execution_count": 69,
     "metadata": {},
     "output_type": "execute_result"
    }
   ],
   "source": [
    "yeild=w1_1+w2_2+w3_3\n",
    "yeild"
   ]
  },
  {
   "cell_type": "code",
   "execution_count": 74,
   "id": "9f9020e2",
   "metadata": {},
   "outputs": [],
   "source": [
    "s=np.append(climate_data,yeild,axis=1)"
   ]
  },
  {
   "cell_type": "code",
   "execution_count": 75,
   "id": "c9e8a1d3",
   "metadata": {},
   "outputs": [],
   "source": [
    "a=np.savetxt(\"Result of climate data.csv\",s,delimiter=',',header='temperature,rainfall,humidity,yeild of corp')"
   ]
  }
 ],
 "metadata": {
  "kernelspec": {
   "display_name": "Python 3 (ipykernel)",
   "language": "python",
   "name": "python3"
  },
  "language_info": {
   "codemirror_mode": {
    "name": "ipython",
    "version": 3
   },
   "file_extension": ".py",
   "mimetype": "text/x-python",
   "name": "python",
   "nbconvert_exporter": "python",
   "pygments_lexer": "ipython3",
   "version": "3.11.5"
  }
 },
 "nbformat": 4,
 "nbformat_minor": 5
}
