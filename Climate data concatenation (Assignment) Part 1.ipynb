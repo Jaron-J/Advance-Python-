{
 "cells": [
  {
   "cell_type": "code",
   "execution_count": 1,
   "id": "3c1312c0",
   "metadata": {
    "scrolled": true
   },
   "outputs": [
    {
     "data": {
      "text/plain": [
       "[array([[ 25.,  76.,  99.],\n",
       "        [ 39.,  65.,  70.],\n",
       "        [ 59.,  45.,  77.],\n",
       "        ...,\n",
       "        [ 95., 100.,  66.],\n",
       "        [ 75.,  97.,  24.],\n",
       "        [ 87.,  59.,  81.]]),\n",
       " array([[85., 51., 88.],\n",
       "        [47., 66., 95.],\n",
       "        [59., 95., 90.],\n",
       "        ...,\n",
       "        [99., 62., 58.],\n",
       "        [70., 71., 91.],\n",
       "        [92., 39., 76.]]),\n",
       " array([[ 93.,  41.,  94.],\n",
       "        [ 81.,  47.,  98.],\n",
       "        [ 65.,  71.,  91.],\n",
       "        ...,\n",
       "        [ 57.,  91.,  27.],\n",
       "        [ 51.,  92.,  64.],\n",
       "        [100.,  32.,  82.]]),\n",
       " array([[82., 21., 40.],\n",
       "        [76., 76., 93.],\n",
       "        [47., 24., 81.],\n",
       "        ...,\n",
       "        [68., 59., 74.],\n",
       "        [49., 81., 28.],\n",
       "        [44., 27., 27.]]),\n",
       " array([[38., 46., 21.],\n",
       "        [68., 75., 33.],\n",
       "        [29., 91., 68.],\n",
       "        ...,\n",
       "        [97., 43., 47.],\n",
       "        [94., 90., 96.],\n",
       "        [74., 66., 87.]]),\n",
       " array([[57., 98., 28.],\n",
       "        [51., 51., 22.],\n",
       "        [50., 79., 20.],\n",
       "        ...,\n",
       "        [62., 34., 83.],\n",
       "        [98., 72., 23.],\n",
       "        [79., 47., 46.]]),\n",
       " array([[ 27.,  49.,  71.],\n",
       "        [ 50.,  77.,  22.],\n",
       "        [ 91.,  30.,  87.],\n",
       "        ...,\n",
       "        [ 53.,  67.,  60.],\n",
       "        [ 34.,  33.,  71.],\n",
       "        [100.,  26.,  77.]]),\n",
       " array([[45., 75., 73.],\n",
       "        [45., 61., 73.],\n",
       "        [33., 98., 53.],\n",
       "        ...,\n",
       "        [44., 71., 21.],\n",
       "        [50., 93., 76.],\n",
       "        [83., 87., 56.]]),\n",
       " array([[97., 58., 60.],\n",
       "        [70., 53., 96.],\n",
       "        [40., 34., 57.],\n",
       "        ...,\n",
       "        [85., 68., 34.],\n",
       "        [72., 73., 32.],\n",
       "        [80., 31., 61.]]),\n",
       " array([[ 71.,  81.,  29.],\n",
       "        [ 46.,  71.,  44.],\n",
       "        [ 77.,  45., 100.],\n",
       "        ...,\n",
       "        [ 47.,  91.,  86.],\n",
       "        [ 90.,  99.,  96.],\n",
       "        [ 40.,  46.,  78.]])]"
      ]
     },
     "execution_count": 1,
     "metadata": {},
     "output_type": "execute_result"
    }
   ],
   "source": [
    "import numpy as np\n",
    "import os\n",
    "os.listdir()\n",
    "k=[]\n",
    "\n",
    "for i in os.listdir():\n",
    "    if i.startswith(\"climate_data_station\"):\n",
    "        a=np.genfromtxt(i,delimiter=',',skip_header=True)\n",
    "        k.append(a)\n",
    "k\n",
    "        "
   ]
  },
  {
   "cell_type": "code",
   "execution_count": 3,
   "id": "c562aa00",
   "metadata": {},
   "outputs": [],
   "source": [
    "k2 = np.array([ii for i in k for ii in i])\n",
    "k2\n",
    "a=np.savetxt(\"climate_data_added_5.csv\",k2,delimiter=',',header='temperature,rainfall,humidity')"
   ]
  },
  {
   "cell_type": "code",
   "execution_count": 5,
   "id": "f124596d",
   "metadata": {},
   "outputs": [
    {
     "data": {
      "text/plain": [
       "(10000, 3)"
      ]
     },
     "execution_count": 5,
     "metadata": {},
     "output_type": "execute_result"
    }
   ],
   "source": [
    "k2.shape"
   ]
  },
  {
   "cell_type": "code",
   "execution_count": null,
   "id": "fb751b0d",
   "metadata": {},
   "outputs": [],
   "source": []
  },
  {
   "cell_type": "code",
   "execution_count": null,
   "id": "cd0f015d",
   "metadata": {},
   "outputs": [],
   "source": []
  }
 ],
 "metadata": {
  "kernelspec": {
   "display_name": "Python 3 (ipykernel)",
   "language": "python",
   "name": "python3"
  },
  "language_info": {
   "codemirror_mode": {
    "name": "ipython",
    "version": 3
   },
   "file_extension": ".py",
   "mimetype": "text/x-python",
   "name": "python",
   "nbconvert_exporter": "python",
   "pygments_lexer": "ipython3",
   "version": "3.11.5"
  }
 },
 "nbformat": 4,
 "nbformat_minor": 5
}
